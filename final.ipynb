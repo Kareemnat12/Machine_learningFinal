{
 "cells": [
  {
   "metadata": {},
   "cell_type": "markdown",
   "source": [
    "# 🎯 Phishing Website Detection Project\n",
    "\n",
    "This project aims to build a **Binary Classification** model to detect whether a website is **Phishing** or **Legitimate**, using a dataset containing information about more than 11,000 websites.\n",
    "\n",
    "## 🧾 Dataset Description:\n",
    "Each row in the dataset represents a website and contains **30 features** that describe various attributes, such as:\n",
    "- Presence of an IP address in the URL\n",
    "- Use of URL shortening services\n",
    "- Number of subdomains\n",
    "- Presence of '@' symbol in the URL\n",
    "- Usage of HTTPS\n",
    "- Domain registration length\n",
    "- Alexa ranking, and more...\n",
    "\n",
    "The last column represents the **label (target)**:\n",
    "- `1` → **Phishing**\n",
    "- `-1` → **Legitimate**\n",
    "\n",
    "## 🛠️ Project Objective:\n",
    "To implement a **Decision Tree Classifier from scratch, Random Forest, Adaboost** (without using libraries like Scikit-Learn) that:\n",
    "- Trains on the dataset\n",
    "- Predicts whether a website is phishing or legitimate\n",
    "- Evaluates the performance using:\n",
    "  - **Accuracy**\n",
    "  - **Confusion Matrix**\n",
    "  - **Precision, Recall, and F1-Score**\n",
    "\n"
   ],
   "id": "3952f7c26f481ad4"
  },
  {
   "cell_type": "code",
   "id": "initial_id",
   "metadata": {
    "collapsed": true,
    "ExecuteTime": {
     "end_time": "2025-08-04T05:25:47.733989Z",
     "start_time": "2025-08-04T05:25:47.730610Z"
    }
   },
   "source": [
    "import numpy as np\n",
    "import pandas as pd\n",
    "from sklearn.model_selection import train_test_split\n",
    "import matplotlib.pyplot as plt\n",
    "from collections import Counter\n",
    "from sklearn.metrics import accuracy_score, classification_report, confusion_matrix, ConfusionMatrixDisplay\n",
    "\n"
   ],
   "outputs": [],
   "execution_count": 8
  },
  {
   "metadata": {},
   "cell_type": "markdown",
   "source": "# splitting The dataset into training and testing sets",
   "id": "97d66e6fda300202"
  },
  {
   "metadata": {
    "ExecuteTime": {
     "end_time": "2025-08-04T05:25:47.790528Z",
     "start_time": "2025-08-04T05:25:47.759612Z"
    }
   },
   "cell_type": "code",
   "source": [
    "# This code assumes you have a dataset in CSV format named 'phishing.csv'\n",
    "# Load the dataset\n",
    "df = pd.read_csv('phishing.csv')\n",
    "\n",
    "# Split into features (X) and target (y)\n",
    "X = df.drop('class', axis=1) \n",
    "y = df['class']\n",
    "\n",
    "# Split into train and test sets (e.g., 80% train, 20% test)\n",
    "X_train, X_test, y_train, y_test = train_test_split(X, y, test_size=0.2, random_state=42)\n",
    "\n",
    "# Convert DataFrame / Series to NumPy arrays for compatibility with our tree\n",
    "X_train = X_train.to_numpy()\n",
    "X_test = X_test.to_numpy()\n",
    "y_train = y_train.to_numpy()\n",
    "y_test = y_test.to_numpy()\n"
   ],
   "id": "872fda9a5d16618f",
   "outputs": [],
   "execution_count": 9
  },
  {
   "metadata": {},
   "cell_type": "markdown",
   "source": [
    "# Entropy and Information Gain\n",
    "\n",
    "## Entropy\n",
    "\n",
    "Entropy measures the uncertainty or impurity in a dataset.\n",
    "\n",
    "$$\n",
    "H(Y) = - \\sum_{i=1}^{c} p_i \\log_2 p_i\n",
    "$$\n",
    "\n",
    "- \\(c\\): Number of classes  \n",
    "- \\(p_i\\): Probability of class \\(i\\) in the dataset \\(Y\\)  \n",
    "\n",
    "Entropy is 0 when all samples belong to one class (pure), and maximum when classes are evenly distributed.\n",
    "\n",
    "---\n",
    "\n",
    "## Information Gain\n",
    "\n",
    "Information Gain measures the reduction in entropy after a dataset is split on an attribute.\n",
    "\n",
    "$$\n",
    "IG(Y, X) = H(Y) - \\sum_{v \\in \\text{Values}(X)} \\frac{|Y_v|}{|Y|} H(Y_v)\n",
    "$$\n",
    "\n",
    "- \\(H(Y)\\): Entropy of the parent dataset  \n",
    "- \\(Y_v\\): Subset of \\(Y\\) for which attribute \\(X\\) has value \\(v\\)  \n",
    "- \\(|Y_v|\\): Number of samples in subset \\(Y_v\\)  \n",
    "- \\(|Y|\\): Number of samples in parent dataset  \n",
    "\n",
    "Information Gain is used to select the attribute that best splits the data to reduce uncertainty.\n"
   ],
   "id": "2b434731181f9d2d"
  },
  {
   "metadata": {},
   "cell_type": "markdown",
   "source": [
    "## 🧠 Decision Tree - Overview\n",
    "\n",
    "A **Decision Tree** is a supervised machine learning algorithm used for **classification** and **regression** tasks.\n",
    "\n",
    "It works by **splitting** the dataset into subsets based on the value of input features, forming a **tree-like structure**:\n",
    "\n",
    "- Each **internal node** represents a decision based on a feature.\n",
    "- Each **branch** represents the outcome of that decision.\n",
    "- Each **leaf node** represents a final prediction (class or value).\n",
    "\n",
    "The tree selects the best features using metrics like **Information Gain** (based on **Entropy**) to reduce uncertainty at each split.\n",
    "\n",
    "\n"
   ],
   "id": "9ca30147bf9122fe"
  },
  {
   "metadata": {
    "ExecuteTime": {
     "end_time": "2025-08-04T05:25:47.815468Z",
     "start_time": "2025-08-04T05:25:47.807179Z"
    }
   },
   "cell_type": "code",
   "source": [
    "# ------------------- ENTROPY & INFORMATION GAIN -------------------\n",
    "\n",
    "def entropy(y):\n",
    "    \"\"\"\n",
    "    Calculate the entropy of a dataset.\n",
    "    \n",
    "    Entropy measures the impurity/randomness in the data. \n",
    "    - High entropy = mixed classes (lots of uncertainty)\n",
    "    - Low entropy = mostly one class (little uncertainty)\n",
    "    - Formula: H(S) = -Σ(p_i * log2(p_i)) where p_i is proportion of class i\n",
    "    \n",
    "    Args:\n",
    "        y: Array of target labels/classes\n",
    "    \n",
    "    Returns:\n",
    "        float: Entropy value (0 = pure, higher = more mixed)\n",
    "    \"\"\"\n",
    "    counts = Counter(y)  # Count occurrences of each class\n",
    "    total = len(y)       # Total number of samples\n",
    "    ent = 0\n",
    "    \n",
    "    # Calculate entropy using the formula\n",
    "    for count in counts.values():\n",
    "        p = count / total        # Probability of this class\n",
    "        ent -= p * np.log2(p)   # Add to entropy sum\n",
    "    return ent\n",
    "\n",
    "def info_gain(y, left_indices, right_indices):\n",
    "    \"\"\"\n",
    "    Calculate information gain from a split.\n",
    "    \n",
    "    Information gain tells you how much uncertainty (entropy) you reduce \n",
    "    by splitting your data. Higher gain = better split.\n",
    "    Formula: IG = H(parent) - [weighted average of H(children)]\n",
    "    \n",
    "    Args:\n",
    "        y: Target labels for parent node\n",
    "        left_indices: Indices of samples going to left child\n",
    "        right_indices: Indices of samples going to right child\n",
    "    \n",
    "    Returns:\n",
    "        float: Information gain (higher is better)\n",
    "    \"\"\"\n",
    "    # Get the target values for each child split\n",
    "    y_left = y[left_indices]\n",
    "    y_right = y[right_indices]\n",
    "    \n",
    "    # Calculate parent entropy (before split)\n",
    "    parent_entropy = entropy(y)\n",
    "    \n",
    "    # Get sizes for weighted average\n",
    "    n = len(y)\n",
    "    n_left = len(y_left)\n",
    "    n_right = len(y_right)\n",
    "    \n",
    "    # Calculate weighted average entropy of children (after split)\n",
    "    child_entropy = (n_left / n) * entropy(y_left) + (n_right / n) * entropy(y_right)\n",
    "    \n",
    "    # Information gain = reduction in entropy\n",
    "    gain = parent_entropy - child_entropy\n",
    "    return gain\n",
    "\n",
    "# ------------------- BEST SPLIT -------------------\n",
    "\n",
    "def best_split(X, y):\n",
    "    \"\"\"\n",
    "    Find the best feature and threshold to split the data.\n",
    "    \n",
    "    Tests all possible splits and returns the one with highest information gain.\n",
    "    For each feature, tries splitting at each unique value in that feature.\n",
    "    \n",
    "    Args:\n",
    "        X: Feature matrix (samples x features)\n",
    "        y: Target labels\n",
    "    \n",
    "    Returns:\n",
    "        tuple: (best_feature_index, best_threshold, best_gain)\n",
    "               Returns (None, None, -1) if no good split found\n",
    "    \"\"\"\n",
    "    best_feature = None\n",
    "    best_threshold = None\n",
    "    best_gain = -1  # Initialize to -1 so any positive gain will be better\n",
    "\n",
    "    n_samples, n_features = X.shape  # Get dataset dimensions\n",
    "\n",
    "    # Try every feature as a potential split\n",
    "    for feature in range(n_features):\n",
    "        values = np.unique(X[:, feature])  # Get all unique values for this feature\n",
    "        \n",
    "        # Try splitting at each unique value\n",
    "        for threshold in values:\n",
    "            # Split samples based on threshold\n",
    "            left_indices = np.where(X[:, feature] <= threshold)[0]   # Samples <= threshold\n",
    "            right_indices = np.where(X[:, feature] > threshold)[0]   # Samples > threshold\n",
    "\n",
    "            # Skip if split puts all samples on one side (no point in splitting)\n",
    "            if len(left_indices) == 0 or len(right_indices) == 0:\n",
    "                continue\n",
    "\n",
    "            # Calculate information gain for this split\n",
    "            gain = info_gain(y, left_indices, right_indices)\n",
    "\n",
    "            # Keep track of the best split so far\n",
    "            if gain > best_gain:\n",
    "                best_gain = gain\n",
    "                best_feature = feature\n",
    "                best_threshold = threshold\n",
    "\n",
    "    return best_feature, best_threshold, best_gain\n",
    "\n",
    "# ------------------- NODE CLASS -------------------\n",
    "\n",
    "class Node:\n",
    "    \"\"\"\n",
    "    Represents a node in the decision tree.\n",
    "    \n",
    "    Can be either:\n",
    "    - Internal node: has feature, threshold, left and right children\n",
    "    - Leaf node: has only a value (the predicted class)\n",
    "    \"\"\"\n",
    "    def __init__(self, feature=None, threshold=None, left=None, right=None, value=None):\n",
    "        self.feature = feature      # Feature index to split on (None for leaf)\n",
    "        self.threshold = threshold  # Threshold value for split (None for leaf)\n",
    "        self.left = left           # Left child node (samples <= threshold)\n",
    "        self.right = right         # Right child node (samples > threshold)\n",
    "        self.value = value         # Predicted class (only for leaf nodes)\n",
    "\n",
    "# ------------------- TREE BUILDING -------------------\n",
    "\n",
    "def build_tree(X, y, depth=0, max_depth=None):\n",
    "    \"\"\"\n",
    "    Recursively build a decision tree.\n",
    "    \n",
    "    Uses a greedy approach: at each node, find the best split and recursively\n",
    "    build subtrees. Stops when stopping criteria are met.\n",
    "    \n",
    "    Args:\n",
    "        X: Feature matrix for current node\n",
    "        y: Target labels for current node\n",
    "        depth: Current depth in tree (for max_depth stopping)\n",
    "        max_depth: Maximum allowed depth (None = no limit)\n",
    "    \n",
    "    Returns:\n",
    "        Node: Root of the (sub)tree built from this data\n",
    "    \"\"\"\n",
    "    # STOPPING CRITERION 1: All samples have same class (pure node)\n",
    "    if len(set(y)) == 1:\n",
    "        return Node(value=y[0])  # Create leaf with the class label\n",
    "    \n",
    "    # STOPPING CRITERION 2: Reached maximum depth\n",
    "    if max_depth is not None and depth >= max_depth:\n",
    "        # Create leaf with most common class\n",
    "        most_common = Counter(y).most_common(1)[0][0]\n",
    "        return Node(value=most_common)\n",
    "\n",
    "    # Find the best way to split current data\n",
    "    feature, threshold, gain = best_split(X, y)\n",
    "    \n",
    "    # STOPPING CRITERION 3: No information gain from any split\n",
    "    if gain == 0:\n",
    "        # Create leaf with most common class\n",
    "        most_common = Counter(y).most_common(1)[0][0]\n",
    "        return Node(value=most_common)\n",
    "\n",
    "    # Split the data based on best feature and threshold\n",
    "    left_idx = np.where(X[:, feature] <= threshold)[0]   # Indices for left child\n",
    "    right_idx = np.where(X[:, feature] > threshold)[0]   # Indices for right child\n",
    "\n",
    "    # Recursively build left and right subtrees\n",
    "    left = build_tree(X[left_idx], y[left_idx], depth + 1, max_depth)\n",
    "    right = build_tree(X[right_idx], y[right_idx], depth + 1, max_depth)\n",
    "\n",
    "    # Return internal node with the split and its children\n",
    "    return Node(feature, threshold, left, right)\n",
    "\n",
    "# ------------------- PREDICTION -------------------\n",
    "\n",
    "def predict_sample(x, node):\n",
    "    \"\"\"\n",
    "    Predict the class for a single sample by traversing the tree.\n",
    "    \n",
    "    Starts at root and follows the path based on feature values until\n",
    "    reaching a leaf node, then returns the leaf's predicted value.\n",
    "    \n",
    "    Args:\n",
    "        x: Single sample (1D array of feature values)\n",
    "        node: Current node in the tree\n",
    "    \n",
    "    Returns:\n",
    "        Predicted class label\n",
    "    \"\"\"\n",
    "    # BASE CASE: Reached a leaf node\n",
    "    if node.value is not None:\n",
    "        return node.value\n",
    "    \n",
    "    # RECURSIVE CASE: Internal node - decide which child to follow\n",
    "    if x[node.feature] <= node.threshold:\n",
    "        return predict_sample(x, node.left)   # Go left\n",
    "    else:\n",
    "        return predict_sample(x, node.right)  # Go right\n",
    "\n",
    "def predict(X, tree):\n",
    "    \"\"\"\n",
    "    Predict classes for multiple samples.\n",
    "    \n",
    "    Args:\n",
    "        X: Feature matrix (samples x features)\n",
    "        tree: Root node of the trained decision tree\n",
    "    \n",
    "    Returns:\n",
    "        numpy array: Predicted class labels for each sample\n",
    "    \"\"\"\n",
    "    # Predict each sample individually and return as array\n",
    "    return np.array([predict_sample(x, tree) for x in X])"
   ],
   "id": "a4821fe8b865817f",
   "outputs": [],
   "execution_count": 10
  },
  {
   "metadata": {
    "ExecuteTime": {
     "end_time": "2025-08-04T05:25:47.831804Z",
     "start_time": "2025-08-04T05:25:47.828694Z"
    }
   },
   "cell_type": "code",
   "source": [
    "# printing the accuracy and classification report\n",
    "def evaluate_model(y_true, y_pred):\n",
    "    class_names = ['Legitimate', 'Phishing']  # for labels -1 and 1\n",
    "    print(\"Accuracy:\", round(accuracy_score(y_true, y_pred), 4))\n",
    "    print(\"\\n Classification Report:\\n\")\n",
    "    print(classification_report(y_true, y_pred, target_names=class_names))\n",
    "\n",
    "    cm = confusion_matrix(y_true, y_pred)\n",
    "    disp = ConfusionMatrixDisplay(confusion_matrix=cm, display_labels=class_names)\n",
    "    plt.figure(figsize=(6, 5))\n",
    "    disp.plot(cmap=plt.cm.Blues)\n",
    "    plt.title(\" Confusion Matrix - Phishing Detection\")\n",
    "    plt.show()"
   ],
   "id": "3097bcad9064195c",
   "outputs": [],
   "execution_count": 11
  },
  {
   "metadata": {
    "ExecuteTime": {
     "end_time": "2025-08-04T05:25:47.846892Z",
     "start_time": "2025-08-04T05:25:47.843801Z"
    }
   },
   "cell_type": "code",
   "source": [
    "def DeceisionTreeClassifier(X_train, y_train, X_test, y_test, max_depth=None):\n",
    "    \"\"\"\n",
    "    Train a Decision Tree Classifier and evaluate its performance.\n",
    "    \n",
    "    Parameters:\n",
    "    - X_train: Training features\n",
    "    - y_train: Training labels\n",
    "    - X_test: Testing features\n",
    "    - y_test: Testing labels\n",
    "    - max_depth: Maximum depth of the tree (optional)\n",
    "    \n",
    "    Returns:\n",
    "    - None\n",
    "    \"\"\"\n",
    "    # Build the decision tree\n",
    "    tree = build_tree(X_train, y_train, max_depth=max_depth)\n",
    "    # Make predictions on the test set\n",
    "    y_pred = predict(X_test, tree)\n",
    "    \n",
    "    # Evaluate the model\n",
    "    evaluate_model(y_test, y_pred)"
   ],
   "id": "67dcaaea99f52b56",
   "outputs": [],
   "execution_count": 12
  },
  {
   "metadata": {
    "ExecuteTime": {
     "end_time": "2025-08-04T05:26:16.168231Z",
     "start_time": "2025-08-04T05:25:47.859573Z"
    }
   },
   "cell_type": "code",
   "source": "DeceisionTreeClassifier(X_train, y_train, X_test, y_test, max_depth=5)\n",
   "id": "8859f5c7107ef0bd",
   "outputs": [
    {
     "name": "stdout",
     "output_type": "stream",
     "text": [
      "Accuracy: 0.9222\n",
      "\n",
      " Classification Report:\n",
      "\n",
      "              precision    recall  f1-score   support\n",
      "\n",
      "  Legitimate       0.97      0.85      0.91       976\n",
      "    Phishing       0.89      0.98      0.93      1235\n",
      "\n",
      "    accuracy                           0.92      2211\n",
      "   macro avg       0.93      0.91      0.92      2211\n",
      "weighted avg       0.93      0.92      0.92      2211\n",
      "\n"
     ]
    },
    {
     "data": {
      "text/plain": [
       "<Figure size 600x500 with 0 Axes>"
      ]
     },
     "metadata": {},
     "output_type": "display_data"
    },
    {
     "data": {
      "text/plain": [
       "<Figure size 640x480 with 2 Axes>"
      ],
      "image/png": "[encoded data removed]"
     },
     "metadata": {},
     "output_type": "display_data"
    }
   ],
   "execution_count": 13
  },
  {
   "metadata": {},
   "cell_type": "markdown",
   "source": [
    "\n",
    "# 🧠 AdaBoost Algorithm — Phishing Detection Use Case\n",
    "\n",
    "In this section, we implement the AdaBoost algorithm from scratch using simple decision stumps (i.e., one-level decision rules). AdaBoost is an ensemble learning method that combines multiple weak learners, where each subsequent learner focuses more on the mistakes made by the previous ones. This iterative reweighting helps build a strong final classifier.\n",
    "\n",
    "🔍 **Key Concepts**:\n",
    "- Each decision stump makes a basic prediction based on a single feature and threshold.\n",
    "- Misclassified samples are given more weight so future stumps focus on harder cases.\n",
    "- Final predictions are a weighted vote of all stumps.\n",
    "\n",
    "We apply this method to a phishing website detection problem based on a dataset of ~11,000 entries with 30 numerical features. Note that this code is fully implemented from scratch, using no external ML libraries (except for data evaluation).\n",
    "\n",
    "---"
   ],
   "id": "7e6c9e0be9b48eda"
  },
  {
   "metadata": {
    "ExecuteTime": {
     "end_time": "2025-08-04T05:26:16.260662Z",
     "start_time": "2025-08-04T05:26:16.254813Z"
    }
   },
   "cell_type": "code",
   "source": [
    "\n",
    "# Define a weak classifier using a dictionary instead of class\n",
    "\n",
    "def create_decision_stump():\n",
    "    return {\n",
    "        'feature_index': None,\n",
    "        'threshold': None,\n",
    "        'polarity': 1,\n",
    "        'alpha': None\n",
    "    }\n",
    "\n",
    "def stump_predict(X, stump):\n",
    "    n_samples = X.shape[0]\n",
    "    X_column = X[:, stump['feature_index']]\n",
    "    predictions = np.ones(n_samples)\n",
    "    if stump['polarity'] == 1:\n",
    "        predictions[X_column < stump['threshold']] = -1\n",
    "    else:\n",
    "        predictions[X_column > stump['threshold']] = -1\n",
    "    return predictions\n",
    "\n",
    "\n",
    "def AdaBoost_train(X, y, n_clf=10):\n",
    "    n_samples, n_features = X.shape\n",
    "    w = np.ones(n_samples) / n_samples\n",
    "    stumps = []\n",
    "\n",
    "    for _ in range(n_clf):\n",
    "        stump = create_decision_stump()\n",
    "        min_error = float('inf')\n",
    "\n",
    "        for feature_i in range(n_features):\n",
    "            X_column = X[:, feature_i]\n",
    "            thresholds = np.unique(X_column)\n",
    "\n",
    "            for threshold in thresholds:\n",
    "                for polarity in [1, -1]:\n",
    "                    predictions = np.ones(n_samples)\n",
    "                    if polarity == 1:\n",
    "                        predictions[X_column < threshold] = -1\n",
    "                    else:\n",
    "                        predictions[X_column > threshold] = -1\n",
    "\n",
    "                    error = np.sum(w[y != predictions])\n",
    "\n",
    "                    if error < min_error:\n",
    "                        stump['polarity'] = polarity\n",
    "                        stump['threshold'] = threshold\n",
    "                        stump['feature_index'] = feature_i\n",
    "                        min_error = error\n",
    "\n",
    "        EPS = 1e-10\n",
    "        stump['alpha'] = 0.5 * np.log((1.0 - min_error + EPS) / (min_error + EPS))\n",
    "\n",
    "        predictions = stump_predict(X, stump)\n",
    "        w *= np.exp(-stump['alpha'] * y * predictions)\n",
    "        w /= np.sum(w)\n",
    "\n",
    "        stumps.append(stump)\n",
    "\n",
    "    return stumps\n",
    "\n",
    "\n",
    "def AdaBoost_predict(X, stumps):\n",
    "    clf_preds = [stump['alpha'] * stump_predict(X, stump) for stump in stumps]\n",
    "    y_pred = np.sum(clf_preds, axis=0)\n",
    "    return np.sign(y_pred)\n"
   ],
   "id": "87dfd2d889c160ad",
   "outputs": [],
   "execution_count": 14
  },
  {
   "metadata": {},
   "cell_type": "markdown",
   "source": [
    "# ✅ How it Works:\n",
    "# 1. We use decision stumps (trees of depth 1) as weak learners.\n",
    "# 2. Each round, we find the best stump based on weighted error.\n",
    "# 3. We compute the importance (alpha) of that classifier.\n",
    "# 4. Update weights so misclassified samples get more weight.\n",
    "# 5. Final prediction is a weighted vote of all weak classifiers.\n",
    "\n",
    "---"
   ],
   "id": "979f403494b87075"
  },
  {
   "metadata": {},
   "cell_type": "markdown",
   "source": "",
   "id": "e81af915697c1f61"
  },
  {
   "metadata": {},
   "cell_type": "markdown",
   "source": "# Train AdaBoost with decision stumps",
   "id": "1246ec3a6bbd02d8"
  },
  {
   "metadata": {
    "ExecuteTime": {
     "end_time": "2025-08-04T05:26:31.251195Z",
     "start_time": "2025-08-04T05:26:16.294609Z"
    }
   },
   "cell_type": "code",
   "source": "stumps = AdaBoost_train(X_train, y_train, n_clf=10)\n",
   "id": "96537c8ab577155d",
   "outputs": [],
   "execution_count": 15
  },
  {
   "metadata": {},
   "cell_type": "markdown",
   "source": "# Predict",
   "id": "c3c25d8d5e1a700b"
  },
  {
   "metadata": {
    "ExecuteTime": {
     "end_time": "2025-08-04T05:26:31.260238Z",
     "start_time": "2025-08-04T05:26:31.256648Z"
    }
   },
   "cell_type": "code",
   "source": "y_pred = AdaBoost_predict(X_test, stumps)",
   "id": "5850f3085b89c984",
   "outputs": [],
   "execution_count": 16
  },
  {
   "metadata": {},
   "cell_type": "markdown",
   "source": "# Evaluate",
   "id": "d9a856d98b9444fc"
  },
  {
   "metadata": {
    "ExecuteTime": {
     "end_time": "2025-08-04T05:26:31.356219Z",
     "start_time": "2025-08-04T05:26:31.274804Z"
    }
   },
   "cell_type": "code",
   "source": "evaluate_model(y_test, y_pred)",
   "id": "71eadd506edddc79",
   "outputs": [
    {
     "name": "stdout",
     "output_type": "stream",
     "text": [
      "Accuracy: 0.929\n",
      "\n",
      " Classification Report:\n",
      "\n",
      "              precision    recall  f1-score   support\n",
      "\n",
      "  Legitimate       0.91      0.93      0.92       976\n",
      "    Phishing       0.95      0.93      0.94      1235\n",
      "\n",
      "    accuracy                           0.93      2211\n",
      "   macro avg       0.93      0.93      0.93      2211\n",
      "weighted avg       0.93      0.93      0.93      2211\n",
      "\n"
     ]
    },
    {
     "data": {
      "text/plain": [
       "<Figure size 600x500 with 0 Axes>"
      ]
     },
     "metadata": {},
     "output_type": "display_data"
    },
    {
     "data": {
      "text/plain": [
       "<Figure size 640x480 with 2 Axes>"
      ],
      "image/png": "[encoded data removed]"
     },
     "metadata": {},
     "output_type": "display_data"
    }
   ],
   "execution_count": 17
  },
  {
   "metadata": {
    "ExecuteTime": {
     "end_time": "2025-08-04T05:26:31.481128Z",
     "start_time": "2025-08-04T05:26:31.476971Z"
    }
   },
   "cell_type": "code",
   "source": "",
   "id": "bdb5339b6f907374",
   "outputs": [],
   "execution_count": null
  }
 ],
 "metadata": {
  "kernelspec": {
   "display_name": "Python 3",
   "language": "python",
   "name": "python3"
  },
  "language_info": {
   "codemirror_mode": {
    "name": "ipython",
    "version": 2
   },
   "file_extension": ".py",
   "mimetype": "text/x-python",
   "name": "python",
   "nbconvert_exporter": "python",
   "pygments_lexer": "ipython2",
   "version": "2.7.6"
  }
 },
 "nbformat": 4,
 "nbformat_minor": 5
}
