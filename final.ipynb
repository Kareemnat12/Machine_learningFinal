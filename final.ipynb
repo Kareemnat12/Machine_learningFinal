{
 "cells": [
  {
   "metadata": {},
   "cell_type": "markdown",
   "source": [
    "# 🎯 Phishing Website Detection Project\n",
    "\n",
    "This project aims to build a **Binary Classification** model to detect whether a website is **Phishing** or **Legitimate**, using a dataset containing information about more than 11,000 websites.\n",
    "\n",
    "## 🧾 Dataset Description:\n",
    "Each row in the dataset represents a website and contains **30 features** that describe various attributes, such as:\n",
    "- Presence of an IP address in the URL\n",
    "- Use of URL shortening services\n",
    "- Number of subdomains\n",
    "- Presence of '@' symbol in the URL\n",
    "- Usage of HTTPS\n",
    "- Domain registration length\n",
    "- Alexa ranking, and more...\n",
    "\n",
    "The last column represents the **label (target)**:\n",
    "- `1` → **Phishing**\n",
    "- `-1` → **Legitimate**\n",
    "\n",
    "## 🛠️ Project Objective:\n",
    "To implement a **Decision Tree Classifier from scratch, Random Forest, Adaboost** (without using libraries like Scikit-Learn) that:\n",
    "- Trains on the dataset\n",
    "- Predicts whether a website is phishing or legitimate\n",
    "- Evaluates the performance using:\n",
    "  - **Accuracy**\n",
    "  - **Confusion Matrix**\n",
    "  - **Precision, Recall, and F1-Score**\n",
    "\n"
   ],
   "id": "3952f7c26f481ad4"
  },
  {
   "cell_type": "code",
   "id": "initial_id",
   "metadata": {
    "collapsed": true,
    "ExecuteTime": {
     "end_time": "2025-08-01T14:16:49.922166Z",
     "start_time": "2025-08-01T14:16:49.919537Z"
    }
   },
   "source": [
    "import numpy as np\n",
    "import pandas as pd\n",
    "from sklearn.model_selection import train_test_split\n",
    "import matplotlib.pyplot as plt\n",
    "from collections import Counter\n",
    "from sklearn.metrics import accuracy_score, classification_report, confusion_matrix, ConfusionMatrixDisplay\n",
    "\n"
   ],
   "outputs": [],
   "execution_count": 55
  },
  {
   "metadata": {},
   "cell_type": "markdown",
   "source": "# splitting The dataset into training and testing sets",
   "id": "97d66e6fda300202"
  },
  {
   "metadata": {
    "ExecuteTime": {
     "end_time": "2025-08-01T14:16:51.328100Z",
     "start_time": "2025-08-01T14:16:51.299351Z"
    }
   },
   "cell_type": "code",
   "source": [
    "# This code assumes you have a dataset in CSV format named 'phishing.csv'\n",
    "# Load the dataset\n",
    "df = pd.read_csv('phishing.csv')\n",
    "\n",
    "# Split into features (X) and target (y)\n",
    "X = df.drop('class', axis=1) \n",
    "y = df['class']\n",
    "\n",
    "# Split into train and test sets (e.g., 80% train, 20% test)\n",
    "X_train, X_test, y_train, y_test = train_test_split(X, y, test_size=0.2, random_state=42)\n",
    "\n",
    "# Convert DataFrame / Series to NumPy arrays for compatibility with our tree\n",
    "X_train = X_train.to_numpy()\n",
    "X_test = X_test.to_numpy()\n",
    "y_train = y_train.to_numpy()\n",
    "y_test = y_test.to_numpy()\n"
   ],
   "id": "872fda9a5d16618f",
   "outputs": [],
   "execution_count": 56
  },
  {
   "metadata": {},
   "cell_type": "markdown",
   "source": [
    "# Entropy and Information Gain\n",
    "\n",
    "## Entropy\n",
    "\n",
    "Entropy measures the uncertainty or impurity in a dataset.\n",
    "\n",
    "$$\n",
    "H(Y) = - \\sum_{i=1}^{c} p_i \\log_2 p_i\n",
    "$$\n",
    "\n",
    "- \\(c\\): Number of classes  \n",
    "- \\(p_i\\): Probability of class \\(i\\) in the dataset \\(Y\\)  \n",
    "\n",
    "Entropy is 0 when all samples belong to one class (pure), and maximum when classes are evenly distributed.\n",
    "\n",
    "---\n",
    "\n",
    "## Information Gain\n",
    "\n",
    "Information Gain measures the reduction in entropy after a dataset is split on an attribute.\n",
    "\n",
    "$$\n",
    "IG(Y, X) = H(Y) - \\sum_{v \\in \\text{Values}(X)} \\frac{|Y_v|}{|Y|} H(Y_v)\n",
    "$$\n",
    "\n",
    "- \\(H(Y)\\): Entropy of the parent dataset  \n",
    "- \\(Y_v\\): Subset of \\(Y\\) for which attribute \\(X\\) has value \\(v\\)  \n",
    "- \\(|Y_v|\\): Number of samples in subset \\(Y_v\\)  \n",
    "- \\(|Y|\\): Number of samples in parent dataset  \n",
    "\n",
    "Information Gain is used to select the attribute that best splits the data to reduce uncertainty.\n"
   ],
   "id": "2b434731181f9d2d"
  },
  {
   "metadata": {},
   "cell_type": "markdown",
   "source": [
    "## 🧠 Decision Tree - Overview\n",
    "\n",
    "A **Decision Tree** is a supervised machine learning algorithm used for **classification** and **regression** tasks.\n",
    "\n",
    "It works by **splitting** the dataset into subsets based on the value of input features, forming a **tree-like structure**:\n",
    "\n",
    "- Each **internal node** represents a decision based on a feature.\n",
    "- Each **branch** represents the outcome of that decision.\n",
    "- Each **leaf node** represents a final prediction (class or value).\n",
    "\n",
    "The tree selects the best features using metrics like **Information Gain** (based on **Entropy**) to reduce uncertainty at each split.\n",
    "\n",
    "\n"
   ],
   "id": "9ca30147bf9122fe"
  },
  {
   "metadata": {
    "ExecuteTime": {
     "end_time": "2025-08-01T14:16:55.358817Z",
     "start_time": "2025-08-01T14:16:55.350089Z"
    }
   },
   "cell_type": "code",
   "source": [
    "# ------------------- ENTROPY & INFORMATION GAIN -------------------\n",
    "def entropy(y):\n",
    "    counts = Counter(y)\n",
    "    total = len(y)\n",
    "    ent = 0\n",
    "    for count in counts.values():\n",
    "        p = count / total\n",
    "        ent -= p * np.log2(p)\n",
    "    return ent\n",
    "\n",
    "def info_gain(y, left_indices, right_indices): #It tells you how much uncertainty (entropy) you reduce by splitting your data\n",
    "    y_left = y[left_indices]\n",
    "    y_right = y[right_indices]\n",
    "    parent_entropy = entropy(y)\n",
    "    n = len(y)\n",
    "    n_left = len(y_left)\n",
    "    n_right = len(y_right)\n",
    "    child_entropy = (n_left / n) * entropy(y_left) + (n_right / n) * entropy(y_right)\n",
    "    gain = parent_entropy - child_entropy # tells us how much uncertainty (entropy) drops if we split on that feature.\n",
    "    return gain\n",
    "\n",
    "# ------------------- BEST SPLIT -------------------\n",
    "def best_split(X, y):\n",
    "    best_feature = None\n",
    "    best_threshold = None\n",
    "    best_gain = -1\n",
    "\n",
    "    n_samples, n_features = X.shape #Get number of samples (rows) and number of features (columns) in the dataset.\n",
    "\n",
    "    for feature in range(n_features):\n",
    "        values = np.unique(X[:, feature])\n",
    "        for threshold in values:\n",
    "            left_indices = np.where(X[:, feature] <= threshold)[0]\n",
    "            right_indices = np.where(X[:, feature] > threshold)[0]\n",
    "\n",
    "            if len(left_indices) == 0 or len(right_indices) == 0:\n",
    "                continue\n",
    "\n",
    "            gain = info_gain(y, left_indices, right_indices)\n",
    "\n",
    "            if gain > best_gain:\n",
    "                best_gain = gain\n",
    "                best_feature = feature\n",
    "                best_threshold = threshold\n",
    "\n",
    "    return best_feature, best_threshold, best_gain\n",
    "\n",
    "# ------------------- NODE CLASS -------------------\n",
    "class Node:\n",
    "    def __init__(self, feature=None, threshold=None, left=None, right=None, value=None):\n",
    "        self.feature = feature\n",
    "        self.threshold = threshold\n",
    "        self.left = left\n",
    "        self.right = right\n",
    "        self.value = value  # Only for leaf nodes\n",
    "\n",
    "# ------------------- TREE BUILDING -------------------\n",
    "def build_tree(X, y, depth=0, max_depth=None):\n",
    "    if len(set(y)) == 1:\n",
    "        return Node(value=y[0])\n",
    "    \n",
    "    if max_depth is not None and depth >= max_depth:\n",
    "        most_common = Counter(y).most_common(1)[0][0]\n",
    "        return Node(value=most_common)\n",
    "\n",
    "    feature, threshold, gain = best_split(X, y)\n",
    "    if gain == 0:\n",
    "        most_common = Counter(y).most_common(1)[0][0]\n",
    "        return Node(value=most_common)\n",
    "\n",
    "    left_idx = np.where(X[:, feature] <= threshold)[0]\n",
    "    right_idx = np.where(X[:, feature] > threshold)[0]\n",
    "\n",
    "    left = build_tree(X[left_idx], y[left_idx], depth + 1, max_depth)\n",
    "    right = build_tree(X[right_idx], y[right_idx], depth + 1, max_depth)\n",
    "\n",
    "    return Node(feature, threshold, left, right)\n",
    "\n",
    "# ------------------- PREDICTION -------------------\n",
    "def predict_sample(x, node):\n",
    "    if node.value is not None:\n",
    "        return node.value\n",
    "    if x[node.feature] <= node.threshold:\n",
    "        return predict_sample(x, node.left)\n",
    "    else:\n",
    "        return predict_sample(x, node.right)\n",
    "\n",
    "def predict(X, tree):\n",
    "    return np.array([predict_sample(x, tree) for x in X])\n",
    "\n"
   ],
   "id": "a4821fe8b865817f",
   "outputs": [],
   "execution_count": 57
  },
  {
   "metadata": {
    "ExecuteTime": {
     "end_time": "2025-08-01T14:23:35.732451Z",
     "start_time": "2025-08-01T14:23:35.728662Z"
    }
   },
   "cell_type": "code",
   "source": [
    "# printing the accuracy and classification report\n",
    "def evaluate_model(y_true, y_pred):\n",
    "    class_names = ['Legitimate', 'Phishing']  # for labels -1 and 1\n",
    "    print(\"📊 Accuracy:\", round(accuracy_score(y_true, y_pred), 4))\n",
    "    print(\"\\n📋 Classification Report:\\n\")\n",
    "    print(classification_report(y_true, y_pred, target_names=class_names))\n",
    "\n",
    "    cm = confusion_matrix(y_true, y_pred)\n",
    "    disp = ConfusionMatrixDisplay(confusion_matrix=cm, display_labels=class_names)\n",
    "    plt.figure(figsize=(6, 5))\n",
    "    disp.plot(cmap=plt.cm.Blues)\n",
    "    plt.title(\" Confusion Matrix - Phishing Detection\")\n",
    "    plt.show()"
   ],
   "id": "3097bcad9064195c",
   "outputs": [],
   "execution_count": 62
  },
  {
   "metadata": {
    "ExecuteTime": {
     "end_time": "2025-08-01T14:35:30.454258Z",
     "start_time": "2025-08-01T14:35:30.450537Z"
    }
   },
   "cell_type": "code",
   "source": [
    "def DeceisionTreeClassifier(X_train, y_train, X_test, y_test, max_depth=None):\n",
    "    \"\"\"\n",
    "    Train a Decision Tree Classifier and evaluate its performance.\n",
    "    \n",
    "    Parameters:\n",
    "    - X_train: Training features\n",
    "    - y_train: Training labels\n",
    "    - X_test: Testing features\n",
    "    - y_test: Testing labels\n",
    "    - max_depth: Maximum depth of the tree (optional)\n",
    "    \n",
    "    Returns:\n",
    "    - None\n",
    "    \"\"\"\n",
    "    # Build the decision tree\n",
    "    tree = build_tree(X_train, y_train, max_depth=max_depth)\n",
    "    # Make predictions on the test set\n",
    "    y_pred = predict(X_test, tree)\n",
    "    \n",
    "    # Evaluate the model\n",
    "    evaluate_model(y_test, y_pred)"
   ],
   "id": "67dcaaea99f52b56",
   "outputs": [],
   "execution_count": 69
  },
  {
   "metadata": {
    "ExecuteTime": {
     "end_time": "2025-08-01T14:35:54.409311Z",
     "start_time": "2025-08-01T14:35:30.668886Z"
    }
   },
   "cell_type": "code",
   "outputs": [
    {
     "name": "stdout",
     "output_type": "stream",
     "text": [
      "📊 Accuracy: 0.9222\n",
      "\n",
      "📋 Classification Report:\n",
      "\n",
      "              precision    recall  f1-score   support\n",
      "\n",
      "  Legitimate       0.97      0.85      0.91       976\n",
      "    Phishing       0.89      0.98      0.93      1235\n",
      "\n",
      "    accuracy                           0.92      2211\n",
      "   macro avg       0.93      0.91      0.92      2211\n",
      "weighted avg       0.93      0.92      0.92      2211\n",
      "\n"
     ]
    },
    {
     "data": {
      "text/plain": [
       "<Figure size 600x500 with 0 Axes>"
      ]
     },
     "metadata": {},
     "output_type": "display_data"
    },
    {
     "data": {
      "text/plain": [
       "<Figure size 640x480 with 2 Axes>"
      ],
      "image/png": "[encoded data removed]"
     },
     "metadata": {},
     "output_type": "display_data"
    }
   ],
   "execution_count": 70,
   "source": "DeceisionTreeClassifier(X_train, y_train, X_test, y_test, max_depth=5)\n",
   "id": "8859f5c7107ef0bd"
  },
  {
   "metadata": {},
   "cell_type": "code",
   "outputs": [],
   "source": "",
   "id": "c6759e3a497d0f5d",
   "execution_count": null
  }
 ],
 "metadata": {
  "kernelspec": {
   "display_name": "Python 3",
   "language": "python",
   "name": "python3"
  },
  "language_info": {
   "codemirror_mode": {
    "name": "ipython",
    "version": 2
   },
   "file_extension": ".py",
   "mimetype": "text/x-python",
   "name": "python",
   "nbconvert_exporter": "python",
   "pygments_lexer": "ipython2",
   "version": "2.7.6"
  }
 },
 "nbformat": 4,
 "nbformat_minor": 5
}
