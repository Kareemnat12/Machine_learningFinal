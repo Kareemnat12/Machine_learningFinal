{
 "cells": [
  {
   "cell_type": "code",
   "id": "initial_id",
   "metadata": {
    "collapsed": true,
    "ExecuteTime": {
     "end_time": "2025-08-01T12:50:33.752389Z",
     "start_time": "2025-08-01T12:50:33.749282Z"
    }
   },
   "source": [
    "import numpy as np\n",
    "import matplotlib.pyplot as plt\n",
    "import pandas as pd\n",
    "from sklearn.model_selection import train_test_split\n",
    "from sklearn.metrics import accuracy_score\n",
    "import seaborn as sns\n"
   ],
   "outputs": [],
   "execution_count": 19
  },
  {
   "metadata": {},
   "cell_type": "markdown",
   "source": "# splitting The dataset into training and testing sets",
   "id": "97d66e6fda300202"
  },
  {
   "metadata": {
    "ExecuteTime": {
     "end_time": "2025-08-01T12:46:06.629843Z",
     "start_time": "2025-08-01T12:46:06.592500Z"
    }
   },
   "cell_type": "code",
   "source": [
    "# This code assumes you have a dataset in CSV format named 'phishing.csv'\n",
    "# Load the dataset\n",
    "df = pd.read_csv('phishing.csv')\n",
    "\n",
    "# Split into features (X) and target (y)\n",
    "X = df.drop('class', axis=1) \n",
    "y = df['class']\n",
    "\n",
    "# Split into train and test sets (e.g., 80% train, 20% test)\n",
    "X_train, X_test, y_train, y_test = train_test_split(X, y, test_size=0.2, random_state=42)\n",
    "\n",
    "# Convert DataFrame / Series to NumPy arrays for compatibility with our tree\n",
    "X_train_np = X_train.to_numpy()\n",
    "X_test_np = X_test.to_numpy()\n",
    "y_train_np = y_train.to_numpy()\n",
    "y_test_np = y_test.to_numpy()\n"
   ],
   "id": "872fda9a5d16618f",
   "outputs": [],
   "execution_count": 14
  },
  {
   "metadata": {},
   "cell_type": "markdown",
   "source": "# Discussion  tree classifier",
   "id": "a641c1f2758119d7"
  },
  {
   "metadata": {
    "ExecuteTime": {
     "end_time": "2025-08-01T12:43:30.413836Z",
     "start_time": "2025-08-01T12:43:29.593216Z"
    }
   },
   "cell_type": "code",
   "source": [
    "from collections import Counter\n",
    "#intropy function\n",
    "def entropy(y):\n",
    "    counts = Counter(y)\n",
    "    total = len(y)\n",
    "    ent = 0\n",
    "    for count in counts.values():\n",
    "        p = count / total\n",
    "        ent -= p * np.log2(p)\n",
    "    return ent\n",
    "\n",
    "# Function to calculate information gain\n",
    "def info_gain(y, left_indices, right_indices):\n",
    "    y_left = y[left_indices]\n",
    "    y_right = y[right_indices]\n",
    "    parent_entropy = entropy(y)\n",
    "    n = len(y)\n",
    "    n_left = len(y_left)\n",
    "    n_right = len(y_right)\n",
    "    child_entropy = (n_left / n) * entropy(y_left) + (n_right / n) * entropy(y_right)\n",
    "    gain = parent_entropy - child_entropy\n",
    "    return gain\n",
    "\n",
    "# Function to find the best split\n",
    "import numpy as np\n",
    "\n",
    "def best_split(X, y):\n",
    "    best_feature = None\n",
    "    best_threshold = None\n",
    "    best_gain = -1\n",
    "\n",
    "    n_samples, n_features = X.shape\n",
    "\n",
    "    for feature in range(n_features):\n",
    "        values = np.unique(X[:, feature])\n",
    "        for threshold in values:\n",
    "            left_indices = np.where(X[:, feature] <= threshold)[0]\n",
    "            right_indices = np.where(X[:, feature] > threshold)[0]\n",
    "\n",
    "            if len(left_indices) == 0 or len(right_indices) == 0:\n",
    "                continue\n",
    "\n",
    "            gain = info_gain(y, left_indices, right_indices)\n",
    "\n",
    "            if gain > best_gain:\n",
    "                best_gain = gain\n",
    "                best_feature = feature\n",
    "                best_threshold = threshold\n",
    "\n",
    "    return best_feature, best_threshold, best_gain\n",
    "\n",
    "\n",
    "class Node:\n",
    "    def __init__(self, feature=None, threshold=None, left=None, right=None, value=None):\n",
    "        self.feature = feature\n",
    "        self.threshold = threshold\n",
    "        self.left = left\n",
    "        self.right = right\n",
    "        self.value = value  # Only set for leaf nodes\n",
    "\n",
    "def build_tree(X, y, depth=0, max_depth=None):\n",
    "    # Stop if all labels are the same or max depth reached\n",
    "    if len(set(y)) == 1:\n",
    "        return Node(value=y[0])\n",
    "    \n",
    "    if max_depth is not None and depth >= max_depth:\n",
    "        most_common = Counter(y).most_common(1)[0][0]\n",
    "        return Node(value=most_common)\n",
    "\n",
    "    # Find the best split\n",
    "    feature, threshold, gain = best_split(X, y)\n",
    "    if gain == 0:\n",
    "        most_common = Counter(y).most_common(1)[0][0]\n",
    "        return Node(value=most_common)\n",
    "\n",
    "    # Split the dataset\n",
    "    left_idx = np.where(X[:, feature] <= threshold)[0]\n",
    "    right_idx = np.where(X[:, feature] > threshold)[0]\n",
    "\n",
    "    left = build_tree(X[left_idx], y[left_idx], depth + 1, max_depth)\n",
    "    right = build_tree(X[right_idx], y[right_idx], depth + 1, max_depth)\n",
    "\n",
    "    return Node(feature, threshold, left, right)\n",
    "\n",
    "def predict_sample(x, node):\n",
    "    if node.value is not None:\n",
    "        return node.value\n",
    "    \n",
    "    if x[node.feature] <= node.threshold:\n",
    "        return predict_sample(x, node.left)\n",
    "    else:\n",
    "        return predict_sample(x, node.right)\n",
    "\n",
    "def predict(X, tree):\n",
    "    return np.array([predict_sample(x, tree) for x in X])\n",
    "tree = build_tree(X_train, y_train, max_depth=5)\n",
    "y_pred = predict(X_test, tree)\n",
    "\n",
    "print(\"Accuracy:\", accuracy_score(y_test, y_pred))\n",
    "\n",
    "\n"
   ],
   "id": "98f2274968a91566",
   "outputs": [
    {
     "ename": "InvalidIndexError",
     "evalue": "(slice(None, None, None), 0)",
     "output_type": "error",
     "traceback": [
      "\u001B[1;31m---------------------------------------------------------------------------\u001B[0m",
      "\u001B[1;31mKeyError\u001B[0m                                  Traceback (most recent call last)",
      "File \u001B[1;32m~\\AppData\\Local\\Programs\\Python\\Python313\\Lib\\site-packages\\pandas\\core\\indexes\\base.py:3805\u001B[0m, in \u001B[0;36mIndex.get_loc\u001B[1;34m(self, key)\u001B[0m\n\u001B[0;32m   3804\u001B[0m \u001B[38;5;28;01mtry\u001B[39;00m:\n\u001B[1;32m-> 3805\u001B[0m     \u001B[38;5;28;01mreturn\u001B[39;00m \u001B[38;5;28;43mself\u001B[39;49m\u001B[38;5;241;43m.\u001B[39;49m\u001B[43m_engine\u001B[49m\u001B[38;5;241;43m.\u001B[39;49m\u001B[43mget_loc\u001B[49m\u001B[43m(\u001B[49m\u001B[43mcasted_key\u001B[49m\u001B[43m)\u001B[49m\n\u001B[0;32m   3806\u001B[0m \u001B[38;5;28;01mexcept\u001B[39;00m \u001B[38;5;167;01mKeyError\u001B[39;00m \u001B[38;5;28;01mas\u001B[39;00m err:\n",
      "File \u001B[1;32mindex.pyx:167\u001B[0m, in \u001B[0;36mpandas._libs.index.IndexEngine.get_loc\u001B[1;34m()\u001B[0m\n",
      "File \u001B[1;32mindex.pyx:196\u001B[0m, in \u001B[0;36mpandas._libs.index.IndexEngine.get_loc\u001B[1;34m()\u001B[0m\n",
      "File \u001B[1;32mpandas\\\\_libs\\\\hashtable_class_helper.pxi:7081\u001B[0m, in \u001B[0;36mpandas._libs.hashtable.PyObjectHashTable.get_item\u001B[1;34m()\u001B[0m\n",
      "File \u001B[1;32mpandas\\\\_libs\\\\hashtable_class_helper.pxi:7089\u001B[0m, in \u001B[0;36mpandas._libs.hashtable.PyObjectHashTable.get_item\u001B[1;34m()\u001B[0m\n",
      "\u001B[1;31mKeyError\u001B[0m: (slice(None, None, None), 0)",
      "\nDuring handling of the above exception, another exception occurred:\n",
      "\u001B[1;31mInvalidIndexError\u001B[0m                         Traceback (most recent call last)",
      "Cell \u001B[1;32mIn[10], line 96\u001B[0m\n\u001B[0;32m     94\u001B[0m \u001B[38;5;28;01mdef\u001B[39;00m \u001B[38;5;21mpredict\u001B[39m(X, tree):\n\u001B[0;32m     95\u001B[0m     \u001B[38;5;28;01mreturn\u001B[39;00m np\u001B[38;5;241m.\u001B[39marray([predict_sample(x, tree) \u001B[38;5;28;01mfor\u001B[39;00m x \u001B[38;5;129;01min\u001B[39;00m X])\n\u001B[1;32m---> 96\u001B[0m tree \u001B[38;5;241m=\u001B[39m \u001B[43mbuild_tree\u001B[49m\u001B[43m(\u001B[49m\u001B[43mX_train\u001B[49m\u001B[43m,\u001B[49m\u001B[43m \u001B[49m\u001B[43my_train\u001B[49m\u001B[43m,\u001B[49m\u001B[43m \u001B[49m\u001B[43mmax_depth\u001B[49m\u001B[38;5;241;43m=\u001B[39;49m\u001B[38;5;241;43m5\u001B[39;49m\u001B[43m)\u001B[49m\n\u001B[0;32m     97\u001B[0m y_pred \u001B[38;5;241m=\u001B[39m predict(X_test, tree)\n\u001B[0;32m     99\u001B[0m \u001B[38;5;28mprint\u001B[39m(\u001B[38;5;124m\"\u001B[39m\u001B[38;5;124mAccuracy:\u001B[39m\u001B[38;5;124m\"\u001B[39m, accuracy_score(y_test, y_pred))\n",
      "Cell \u001B[1;32mIn[10], line 71\u001B[0m, in \u001B[0;36mbuild_tree\u001B[1;34m(X, y, depth, max_depth)\u001B[0m\n\u001B[0;32m     68\u001B[0m     \u001B[38;5;28;01mreturn\u001B[39;00m Node(value\u001B[38;5;241m=\u001B[39mmost_common)\n\u001B[0;32m     70\u001B[0m \u001B[38;5;66;03m# Find the best split\u001B[39;00m\n\u001B[1;32m---> 71\u001B[0m feature, threshold, gain \u001B[38;5;241m=\u001B[39m \u001B[43mbest_split\u001B[49m\u001B[43m(\u001B[49m\u001B[43mX\u001B[49m\u001B[43m,\u001B[49m\u001B[43m \u001B[49m\u001B[43my\u001B[49m\u001B[43m)\u001B[49m\n\u001B[0;32m     72\u001B[0m \u001B[38;5;28;01mif\u001B[39;00m gain \u001B[38;5;241m==\u001B[39m \u001B[38;5;241m0\u001B[39m:\n\u001B[0;32m     73\u001B[0m     most_common \u001B[38;5;241m=\u001B[39m Counter(y)\u001B[38;5;241m.\u001B[39mmost_common(\u001B[38;5;241m1\u001B[39m)[\u001B[38;5;241m0\u001B[39m][\u001B[38;5;241m0\u001B[39m]\n",
      "Cell \u001B[1;32mIn[10], line 35\u001B[0m, in \u001B[0;36mbest_split\u001B[1;34m(X, y)\u001B[0m\n\u001B[0;32m     32\u001B[0m n_samples, n_features \u001B[38;5;241m=\u001B[39m X\u001B[38;5;241m.\u001B[39mshape\n\u001B[0;32m     34\u001B[0m \u001B[38;5;28;01mfor\u001B[39;00m feature \u001B[38;5;129;01min\u001B[39;00m \u001B[38;5;28mrange\u001B[39m(n_features):\n\u001B[1;32m---> 35\u001B[0m     values \u001B[38;5;241m=\u001B[39m np\u001B[38;5;241m.\u001B[39munique(\u001B[43mX\u001B[49m\u001B[43m[\u001B[49m\u001B[43m:\u001B[49m\u001B[43m,\u001B[49m\u001B[43m \u001B[49m\u001B[43mfeature\u001B[49m\u001B[43m]\u001B[49m)\n\u001B[0;32m     36\u001B[0m     \u001B[38;5;28;01mfor\u001B[39;00m threshold \u001B[38;5;129;01min\u001B[39;00m values:\n\u001B[0;32m     37\u001B[0m         left_indices \u001B[38;5;241m=\u001B[39m np\u001B[38;5;241m.\u001B[39mwhere(X[:, feature] \u001B[38;5;241m<\u001B[39m\u001B[38;5;241m=\u001B[39m threshold)[\u001B[38;5;241m0\u001B[39m]\n",
      "File \u001B[1;32m~\\AppData\\Local\\Programs\\Python\\Python313\\Lib\\site-packages\\pandas\\core\\frame.py:4102\u001B[0m, in \u001B[0;36mDataFrame.__getitem__\u001B[1;34m(self, key)\u001B[0m\n\u001B[0;32m   4100\u001B[0m \u001B[38;5;28;01mif\u001B[39;00m \u001B[38;5;28mself\u001B[39m\u001B[38;5;241m.\u001B[39mcolumns\u001B[38;5;241m.\u001B[39mnlevels \u001B[38;5;241m>\u001B[39m \u001B[38;5;241m1\u001B[39m:\n\u001B[0;32m   4101\u001B[0m     \u001B[38;5;28;01mreturn\u001B[39;00m \u001B[38;5;28mself\u001B[39m\u001B[38;5;241m.\u001B[39m_getitem_multilevel(key)\n\u001B[1;32m-> 4102\u001B[0m indexer \u001B[38;5;241m=\u001B[39m \u001B[38;5;28;43mself\u001B[39;49m\u001B[38;5;241;43m.\u001B[39;49m\u001B[43mcolumns\u001B[49m\u001B[38;5;241;43m.\u001B[39;49m\u001B[43mget_loc\u001B[49m\u001B[43m(\u001B[49m\u001B[43mkey\u001B[49m\u001B[43m)\u001B[49m\n\u001B[0;32m   4103\u001B[0m \u001B[38;5;28;01mif\u001B[39;00m is_integer(indexer):\n\u001B[0;32m   4104\u001B[0m     indexer \u001B[38;5;241m=\u001B[39m [indexer]\n",
      "File \u001B[1;32m~\\AppData\\Local\\Programs\\Python\\Python313\\Lib\\site-packages\\pandas\\core\\indexes\\base.py:3811\u001B[0m, in \u001B[0;36mIndex.get_loc\u001B[1;34m(self, key)\u001B[0m\n\u001B[0;32m   3806\u001B[0m \u001B[38;5;28;01mexcept\u001B[39;00m \u001B[38;5;167;01mKeyError\u001B[39;00m \u001B[38;5;28;01mas\u001B[39;00m err:\n\u001B[0;32m   3807\u001B[0m     \u001B[38;5;28;01mif\u001B[39;00m \u001B[38;5;28misinstance\u001B[39m(casted_key, \u001B[38;5;28mslice\u001B[39m) \u001B[38;5;129;01mor\u001B[39;00m (\n\u001B[0;32m   3808\u001B[0m         \u001B[38;5;28misinstance\u001B[39m(casted_key, abc\u001B[38;5;241m.\u001B[39mIterable)\n\u001B[0;32m   3809\u001B[0m         \u001B[38;5;129;01mand\u001B[39;00m \u001B[38;5;28many\u001B[39m(\u001B[38;5;28misinstance\u001B[39m(x, \u001B[38;5;28mslice\u001B[39m) \u001B[38;5;28;01mfor\u001B[39;00m x \u001B[38;5;129;01min\u001B[39;00m casted_key)\n\u001B[0;32m   3810\u001B[0m     ):\n\u001B[1;32m-> 3811\u001B[0m         \u001B[38;5;28;01mraise\u001B[39;00m InvalidIndexError(key)\n\u001B[0;32m   3812\u001B[0m     \u001B[38;5;28;01mraise\u001B[39;00m \u001B[38;5;167;01mKeyError\u001B[39;00m(key) \u001B[38;5;28;01mfrom\u001B[39;00m \u001B[38;5;21;01merr\u001B[39;00m\n\u001B[0;32m   3813\u001B[0m \u001B[38;5;28;01mexcept\u001B[39;00m \u001B[38;5;167;01mTypeError\u001B[39;00m:\n\u001B[0;32m   3814\u001B[0m     \u001B[38;5;66;03m# If we have a listlike key, _check_indexing_error will raise\u001B[39;00m\n\u001B[0;32m   3815\u001B[0m     \u001B[38;5;66;03m#  InvalidIndexError. Otherwise we fall through and re-raise\u001B[39;00m\n\u001B[0;32m   3816\u001B[0m     \u001B[38;5;66;03m#  the TypeError.\u001B[39;00m\n",
      "\u001B[1;31mInvalidIndexError\u001B[0m: (slice(None, None, None), 0)"
     ]
    }
   ],
   "execution_count": 10
  },
  {
   "metadata": {},
   "cell_type": "code",
   "outputs": [],
   "execution_count": null,
   "source": "",
   "id": "d959955beb1e23f2"
  },
  {
   "metadata": {
    "ExecuteTime": {
     "end_time": "2025-08-01T12:52:06.633853Z",
     "start_time": "2025-08-01T12:52:06.621625Z"
    }
   },
   "cell_type": "code",
   "source": [
    "import numpy as np\n",
    "from collections import Counter\n",
    "from sklearn.metrics import classification_report, confusion_matrix\n",
    "import matplotlib.pyplot as plt\n",
    "import seaborn as sns\n",
    "\n",
    "class Node:\n",
    "    def __init__(self, feature=None, threshold=None, left=None, right=None, *, value=None):\n",
    "        self.feature = feature\n",
    "        self.threshold = threshold\n",
    "        self.left = left\n",
    "        self.right = right\n",
    "        self.value = value\n",
    "\n",
    "    def is_leaf(self):\n",
    "        return self.value is not None\n",
    "\n",
    "class DecisionTree:\n",
    "    def __init__(self, max_depth=5):\n",
    "        self.max_depth = max_depth\n",
    "        self.root = None\n",
    "\n",
    "    def fit(self, X, y):\n",
    "        self.root = self._build_tree(X, y)\n",
    "\n",
    "    def _build_tree(self, X, y, depth=0):\n",
    "        if len(set(y)) == 1 or depth >= self.max_depth:\n",
    "            most_common = Counter(y).most_common(1)[0][0]\n",
    "            return Node(value=most_common)\n",
    "\n",
    "        feature, threshold, gain = best_split(X, y)\n",
    "        if gain == 0:\n",
    "            most_common = Counter(y).most_common(1)[0][0]\n",
    "            return Node(value=most_common)\n",
    "\n",
    "        left_idx = np.where(X[:, feature] <= threshold)[0]\n",
    "        right_idx = np.where(X[:, feature] > threshold)[0]\n",
    "\n",
    "        left = self._build_tree(X[left_idx], y[left_idx], depth + 1)\n",
    "        right = self._build_tree(X[right_idx], y[right_idx], depth + 1)\n",
    "\n",
    "        return Node(feature, threshold, left, right)\n",
    "\n",
    "    def _predict(self, x, node):\n",
    "        if node.is_leaf():\n",
    "            return node.value\n",
    "\n",
    "        if x[node.feature] <= node.threshold:\n",
    "            return self._predict(x, node.left)\n",
    "        else:\n",
    "            return self._predict(x, node.right)\n",
    "\n",
    "    def predict(self, X):\n",
    "        return np.array([self._predict(x, self.root) for x in X])\n",
    "\n",
    "    def evaluate(self, X, y_true):\n",
    "        y_pred = self.predict(X)\n",
    "        print(\"\\n📋 Classification Report:\\n\", classification_report(y_true, y_pred))\n",
    "\n",
    "        cm = confusion_matrix(y_true, y_pred)\n",
    "        plt.figure(figsize=(6,5))\n",
    "        sns.heatmap(cm, annot=True, fmt='d', cmap='Blues', cbar=False,\n",
    "                    xticklabels=np.unique(y_true), yticklabels=np.unique(y_true))\n",
    "        plt.xlabel('Predicted Label')\n",
    "        plt.ylabel('True Label')\n",
    "        plt.title('Confusion Matrix')\n",
    "        plt.show()\n"
   ],
   "id": "d2805f590ec6612f",
   "outputs": [],
   "execution_count": 22
  },
  {
   "metadata": {},
   "cell_type": "markdown",
   "source": "# Evaluating the Decision Tree Classifier By the dataset in the second cell",
   "id": "cc60ce58a66a0968"
  },
  {
   "metadata": {
    "ExecuteTime": {
     "end_time": "2025-08-01T12:52:29.133821Z",
     "start_time": "2025-08-01T12:52:07.910809Z"
    }
   },
   "cell_type": "code",
   "source": [
    "tree = DecisionTree(max_depth=5)\n",
    "tree.fit(X_train_np, y_train_np)\n",
    "tree.evaluate(X_test_np, y_test_np)\n",
    "\n",
    "\n",
    "\n"
   ],
   "id": "256b0afa61db93f",
   "outputs": [
    {
     "name": "stdout",
     "output_type": "stream",
     "text": [
      "\n",
      "📋 Classification Report:\n",
      "               precision    recall  f1-score   support\n",
      "\n",
      "          -1       0.97      0.85      0.91       976\n",
      "           1       0.89      0.98      0.93      1235\n",
      "\n",
      "    accuracy                           0.92      2211\n",
      "   macro avg       0.93      0.91      0.92      2211\n",
      "weighted avg       0.93      0.92      0.92      2211\n",
      "\n"
     ]
    },
    {
     "data": {
      "text/plain": [
       "<Figure size 600x500 with 1 Axes>"
      ],
      "image/png": "[encoded data removed]"
     },
     "metadata": {},
     "output_type": "display_data"
    }
   ],
   "execution_count": 23
  },
  {
   "metadata": {},
   "cell_type": "code",
   "outputs": [],
   "execution_count": null,
   "source": "",
   "id": "a4821fe8b865817f"
  }
 ],
 "metadata": {
  "kernelspec": {
   "display_name": "Python 3",
   "language": "python",
   "name": "python3"
  },
  "language_info": {
   "codemirror_mode": {
    "name": "ipython",
    "version": 2
   },
   "file_extension": ".py",
   "mimetype": "text/x-python",
   "name": "python",
   "nbconvert_exporter": "python",
   "pygments_lexer": "ipython2",
   "version": "2.7.6"
  }
 },
 "nbformat": 4,
 "nbformat_minor": 5
}
